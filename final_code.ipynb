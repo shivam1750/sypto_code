{
 "cells": [
  {
   "cell_type": "code",
   "execution_count": 54,
   "metadata": {},
   "outputs": [],
   "source": [
    "import pandas as pd\n",
    "import requests\n",
    "import csv\n",
    "import os\n",
    "import zipfile\n",
    "import io\n",
    "import glob"
   ]
  },
  {
   "cell_type": "markdown",
   "metadata": {},
   "source": [
    "## Fyers.in"
   ]
  },
  {
   "cell_type": "code",
   "execution_count": 7,
   "metadata": {},
   "outputs": [],
   "source": [
    "fyers_01 = pd.read_csv(\"https://public.fyers.in/sym_details/NSE_CD.csv\")\n",
    "fyers_02 = pd.read_csv(\"https://public.fyers.in/sym_details/NSE_FO.csv\")\n",
    "fyers_03 = pd.read_csv(\"https://public.fyers.in/sym_details/NSE_CM.csv\")\n",
    "fyers_04 = pd.read_csv(\"https://public.fyers.in/sym_details/BSE_CM.csv\")\n",
    "fyers_05 = pd.read_csv(\"https://public.fyers.in/sym_details/BSE_FO.csv\")\n",
    "fyers_06 = pd.read_csv(\"https://public.fyers.in/sym_details/MCX_COM.csv\")"
   ]
  },
  {
   "cell_type": "code",
   "execution_count": 12,
   "metadata": {},
   "outputs": [
    {
     "data": {
      "text/plain": [
       "(Index(['101224102910107', 'JPYINR 24 Oct 29 65.5 CE', '19', '1', '0.0025',\n",
       "        'Unnamed: 5', '0900-1700|1815-1915:', '2024-10-28', '1730185200',\n",
       "        'NSE:JPYINR24OCT65.5CE', '10', '12', '10107', 'JPYINR', '27', '65.5',\n",
       "        'CE', '101200000027', 'None', '0', '0.0'],\n",
       "       dtype='object'),\n",
       " Index(['101124102935012', 'FINNIFTY 24 Oct 29 FUT', '11', '25', '0.05',\n",
       "        'Unnamed: 5', '0915-1530|1815-1915:', '2024-10-28', '1730196000',\n",
       "        'NSE:FINNIFTY24OCTFUT', '10', '11.1', '35012', 'FINNIFTY', '26037',\n",
       "        '-1.0', 'XX', '101000000026037', 'None', '0', '0.0'],\n",
       "       dtype='object'),\n",
       " Index(['10100000001', 'GOLDSTAR POWER LIMITED', '0', '11250', '0.05',\n",
       "        'INE405Y01021', '0915-1530|1815-1915:', '2024-10-28', 'Unnamed: 8',\n",
       "        'NSE:GOLDSTAR-SM', '10', '10.1', '1', 'GOLDSTAR', '1.1', '-1.0', 'XX',\n",
       "        '10100000001.1', 'None', '0.1', '0.0'],\n",
       "       dtype='object'),\n",
       " Index(['12100000001', 'SENSEX-INDEX', '10', '0', '0.01', 'Unnamed: 5',\n",
       "        '0915-1530|1815-1915:', '2024-10-28', 'Unnamed: 8', 'BSE:SENSEX-INDEX',\n",
       "        '12', '10.1', '1', 'SENSEX', '1.1', '-1.0', 'XX', '12100000001.1',\n",
       "        'None', '0.1', '0.0'],\n",
       "       dtype='object'),\n",
       " Index(['12112410311135815', 'SENSEX 24 Oct 31 83700 PE', '14', '10', '0.05',\n",
       "        'Unnamed: 5', '0915-1530|1815-1915:', '2024-10-28', '1730368800',\n",
       "        'BSE:SENSEX24O3183700PE', '12', '11', '1135815', 'SENSEX', '1',\n",
       "        '83700.0', 'PE', '12100000001', 'None', '0', '0.0'],\n",
       "       dtype='object'),\n",
       " Index(['1120241031433056', 'MENTHAOIL 24 Oct 31 FUT', '30', '1', '0.1',\n",
       "        'Unnamed: 5', '0900-1800|1815-1915:', '2024-10-29', '1730397600',\n",
       "        'MCX:MENTHAOIL24OCTFUT', '11', '20', '433056', 'MENTHAOIL', '320',\n",
       "        '-1.0', 'XX', '1120000000320', '1730397600.1', '0', '0.0'],\n",
       "       dtype='object'))"
      ]
     },
     "execution_count": 12,
     "metadata": {},
     "output_type": "execute_result"
    }
   ],
   "source": [
    "fyers_01.columns , fyers_02.columns , fyers_03.columns, fyers_04.columns , fyers_05.columns , fyers_06.columns"
   ]
  },
  {
   "cell_type": "code",
   "execution_count": 16,
   "metadata": {},
   "outputs": [],
   "source": [
    "data = pd.concat([fyers_01, fyers_02, fyers_03, fyers_04, fyers_05, fyers_06], ignore_index=True)\n",
    "data.columns = data.columns.str.strip()"
   ]
  },
  {
   "cell_type": "code",
   "execution_count": 17,
   "metadata": {},
   "outputs": [],
   "source": [
    "def classify_instrument(name):\n",
    "    if isinstance(name, str):  \n",
    "        if 'FUT' in name:\n",
    "            return 'Futures'\n",
    "        elif 'CE' in name or 'PE' in name:\n",
    "            return 'Options'\n",
    "        else:\n",
    "            return 'Cash'\n",
    "    else:\n",
    "        return 'Unknown'  \n"
   ]
  },
  {
   "cell_type": "code",
   "execution_count": 19,
   "metadata": {},
   "outputs": [],
   "source": [
    "data['Type'] = data.iloc[:, 1].apply(classify_instrument)"
   ]
  },
  {
   "cell_type": "code",
   "execution_count": 20,
   "metadata": {},
   "outputs": [],
   "source": [
    "cash_data = data[data['Type'] == 'Cash']\n",
    "futures_data = data[data['Type'] == 'Futures']\n",
    "options_data = data[data['Type'] == 'Options']"
   ]
  },
  {
   "cell_type": "code",
   "execution_count": 21,
   "metadata": {},
   "outputs": [],
   "source": [
    "os.makedirs('fyers', exist_ok=True)"
   ]
  },
  {
   "cell_type": "code",
   "execution_count": 22,
   "metadata": {},
   "outputs": [],
   "source": [
    "cash_data.to_csv('fyers/cash_data.csv', index=False)\n",
    "futures_data.to_csv('fyers/futures_data.csv', index=False)\n",
    "options_data.to_csv('fyers/options_data.csv', index=False)"
   ]
  },
  {
   "cell_type": "markdown",
   "metadata": {},
   "source": [
    "### Angel One"
   ]
  },
  {
   "cell_type": "code",
   "execution_count": 23,
   "metadata": {},
   "outputs": [],
   "source": [
    "url_angel_one = \"https://margincalculator.angelbroking.com/OpenAPI_File/files/OpenAPIScripMaster.json\"\n",
    "response = requests.get(url_angel_one)\n",
    "response.raise_for_status()  "
   ]
  },
  {
   "cell_type": "code",
   "execution_count": 26,
   "metadata": {},
   "outputs": [
    {
     "data": {
      "text/plain": [
       "Index(['token', 'symbol', 'name', 'expiry', 'strike', 'lotsize',\n",
       "       'instrumenttype', 'exch_seg', 'tick_size'],\n",
       "      dtype='object')"
      ]
     },
     "execution_count": 26,
     "metadata": {},
     "output_type": "execute_result"
    }
   ],
   "source": [
    "data_angel_one  = response.json()\n",
    "df_angel_one  = pd.DataFrame(data_angel_one )\n",
    "df_angel_one.columns"
   ]
  },
  {
   "cell_type": "code",
   "execution_count": 34,
   "metadata": {},
   "outputs": [],
   "source": [
    "def classify_instrument_angel(row):\n",
    "    \"\"\"Classify instruments into Cash, Futures, or Options.\"\"\"\n",
    "    instrument_type = row['instrumenttype']\n",
    "    symbol = row['symbol']\n",
    "\n",
    "    if instrument_type in ['OPTSTK', 'OPTIDX']:\n",
    "        return 'Options'\n",
    "    elif instrument_type in ['FUTSTK', 'FUTIDX']:\n",
    "        return 'Futures'\n",
    "    else:\n",
    "        return 'Cash'"
   ]
  },
  {
   "cell_type": "code",
   "execution_count": 35,
   "metadata": {},
   "outputs": [],
   "source": [
    "df_angel_one['Type'] = df_angel_one.apply(classify_instrument_angel, axis=1)"
   ]
  },
  {
   "cell_type": "code",
   "execution_count": 36,
   "metadata": {},
   "outputs": [],
   "source": [
    "cash_data = df_angel_one[df_angel_one['Type'] == 'Cash']\n",
    "futures_data = df_angel_one[df_angel_one['Type'] == 'Futures']\n",
    "options_data = df_angel_one[df_angel_one['Type'] == 'Options']"
   ]
  },
  {
   "cell_type": "code",
   "execution_count": 37,
   "metadata": {},
   "outputs": [],
   "source": [
    "os.makedirs('angel_one', exist_ok=True)\n",
    "\n",
    "cash_data.to_csv('angel_one/cash_data.csv', index=False)\n",
    "futures_data.to_csv('angel_one/futures_data.csv', index=False)\n",
    "options_data.to_csv('angel_one/options_data.csv', index=False)\n"
   ]
  },
  {
   "cell_type": "markdown",
   "metadata": {},
   "source": [
    "### icici "
   ]
  },
  {
   "cell_type": "code",
   "execution_count": 8,
   "metadata": {},
   "outputs": [],
   "source": [
    "\n",
    "icici_url = \"https://directlink.icicidirect.com/NewSecurityMaster/SecurityMaster.zip\"\n",
    "os.makedirs('raw_icici', exist_ok=True)\n"
   ]
  },
  {
   "cell_type": "code",
   "execution_count": 9,
   "metadata": {},
   "outputs": [],
   "source": [
    "\n",
    "def extract_zip_and_convert(url, extract_to='raw_icici'):\n",
    "    response = requests.get(url)\n",
    "    response.raise_for_status()\n",
    "    with zipfile.ZipFile(io.BytesIO(response.content)) as z:\n",
    "        z.extractall(path=extract_to)\n",
    "        for filename in z.namelist():\n",
    "            print(filename)\n",
    "    for filename in os.listdir(extract_to):\n",
    "        if filename.endswith('.txt'):\n",
    "            txt_path = os.path.join(extract_to, filename)\n",
    "            with open(txt_path, 'r') as file:\n",
    "                csv_content = file.read().replace('|', ',')\n",
    "\n",
    "            new_filename = os.path.splitext(filename)[0] + '.csv'\n",
    "            csv_path = os.path.join(extract_to, new_filename)\n",
    "            with open(csv_path, 'w') as csv_file:\n",
    "                csv_file.write(csv_content)"
   ]
  },
  {
   "cell_type": "code",
   "execution_count": 10,
   "metadata": {},
   "outputs": [
    {
     "name": "stdout",
     "output_type": "stream",
     "text": [
      "Extracted files:\n",
      "BSEScripMaster.txt\n",
      "CDNSEScripMaster.txt\n",
      "FOBSEScripMaster.txt\n",
      "FONSEScripMaster.txt\n",
      "NSEScripMaster.txt\n",
      "Converted BSEScripMaster.txt to BSEScripMaster.csv\n",
      "Converted CDNSEScripMaster.txt to CDNSEScripMaster.csv\n",
      "Converted FOBSEScripMaster.txt to FOBSEScripMaster.csv\n",
      "Converted FONSEScripMaster.txt to FONSEScripMaster.csv\n",
      "Converted NSEScripMaster.txt to NSEScripMaster.csv\n"
     ]
    }
   ],
   "source": [
    "extract_zip_and_convert(icici_url)"
   ]
  },
  {
   "cell_type": "code",
   "execution_count": 13,
   "metadata": {},
   "outputs": [
    {
     "name": "stdout",
     "output_type": "stream",
     "text": [
      "BSEScripMaster.csv\n",
      "BSEScripMaster.txt\n",
      "CDNSEScripMaster.csv\n",
      "CDNSEScripMaster.txt\n",
      "FOBSEScripMaster.csv\n",
      "FOBSEScripMaster.txt\n",
      "FONSEScripMaster.csv\n",
      "FONSEScripMaster.txt\n",
      "icici_master_scrip.csv\n",
      "NSEScripMaster.csv\n",
      "NSEScripMaster.txt\n"
     ]
    }
   ],
   "source": [
    "for file in os.listdir('raw_icici'):\n",
    "    print(file)\n",
    "csv_files = [f for f in os.listdir('raw_icici') if f.endswith('.csv')]\n",
    "if csv_files:\n",
    "    dfs = [pd.read_csv(os.path.join('raw_icici', f), on_bad_lines='skip', low_memory=False) for f in csv_files]\n",
    "    df_icici = pd.concat(dfs, ignore_index=True)\n",
    "    df_icici.to_csv('raw_icici/icici_master_scrip.csv', index=False)\n",
    "else:\n",
    "    print(\"No CSV files found in the 'icici' directory.\")"
   ]
  },
  {
   "cell_type": "code",
   "execution_count": 19,
   "metadata": {},
   "outputs": [],
   "source": [
    "df_icici = pd.read_csv(\"raw_icici\\icici_master_scrip.csv\",low_memory=False)"
   ]
  },
  {
   "cell_type": "code",
   "execution_count": 20,
   "metadata": {},
   "outputs": [
    {
     "name": "stdout",
     "output_type": "stream",
     "text": [
      "Columns: Index(['Token', 'ShortName', 'Series', 'CompanyName', 'TickSize', 'LotSize',\n",
      "       'ScripCode', 'MarketLot', 'BCastFlag', 'AVMBuyMargin',\n",
      "       ...\n",
      "       'NormalMarketStatus.1', 'OddLotMarketStatus.1', 'SpotMarketStatus.1',\n",
      "       'AuctionMarketStatus.1', 'NormalMarketEligibility.1',\n",
      "       'OddLotlMarketEligibility', 'SpotMarketEligibility.1',\n",
      "       'AuctionlMarketEligibility', 'MarginPercentage.1', 'ExchangeCode.1'],\n",
      "      dtype='object', length=155)\n"
     ]
    }
   ],
   "source": [
    "print(f\"Columns: {df_icici.columns}\")"
   ]
  },
  {
   "cell_type": "code",
   "execution_count": 25,
   "metadata": {},
   "outputs": [],
   "source": [
    "\n",
    "def classify_instrument_icici(row):\n",
    "    \"\"\"Classify instruments into Cash, Futures, or Options.\"\"\"\n",
    "    instrument_name = row['InstrumentName']\n",
    "    symbol = row['Symbol'] if 'Symbol' in row else row['ScripName']  \n",
    "    if instrument_name in ['OPTSTK', 'OPTIDX']:\n",
    "        return 'Options'\n",
    "    elif instrument_name in ['FUTSTK', 'FUTIDX']:\n",
    "        return 'Futures'\n",
    "    else:\n",
    "        return 'Cash'"
   ]
  },
  {
   "cell_type": "code",
   "execution_count": 26,
   "metadata": {},
   "outputs": [],
   "source": [
    "df_icici['Type'] = df_icici.apply(classify_instrument_icici, axis=1)\n",
    "cash_data = df_icici[df_icici['Type'] == 'Cash']\n",
    "futures_data = df_icici[df_icici['Type'] == 'Futures']\n",
    "options_data = df_icici[df_icici['Type'] == 'Options']"
   ]
  },
  {
   "cell_type": "code",
   "execution_count": 27,
   "metadata": {},
   "outputs": [],
   "source": [
    "os.makedirs('icici', exist_ok=True)\n",
    "cash_data.to_csv('icici/cash_data.csv', index=False)\n",
    "futures_data.to_csv('icici/futures_data.csv', index=False)\n",
    "options_data.to_csv('icici/options_data.csv', index=False)"
   ]
  },
  {
   "cell_type": "markdown",
   "metadata": {},
   "source": [
    "### Kotak"
   ]
  },
  {
   "cell_type": "code",
   "execution_count": null,
   "metadata": {},
   "outputs": [],
   "source": [
    "kotak_urls = {\n",
    "    \"cash\": \"https://preferred.kotaksecurities.com/security/production/TradeApiInstruments_Cash_01_04_2022.txt\",\n",
    "    \"futures\": \"https://preferred.kotaksecurities.com/security/production/TradeApiInstruments_FNO_01_04_2022.txt\"\n",
    "}"
   ]
  },
  {
   "cell_type": "code",
   "execution_count": 48,
   "metadata": {},
   "outputs": [],
   "source": [
    "df_cash = pd.read_csv(kotak_urls['cash'], delimiter='|')\n",
    "df_futures = pd.read_csv(kotak_urls['futures'], delimiter='|')\n",
    "\n",
    "df_kotak = pd.concat([df_cash, df_futures], ignore_index=True)"
   ]
  },
  {
   "cell_type": "code",
   "execution_count": 49,
   "metadata": {},
   "outputs": [],
   "source": [
    "def classify_instrument(row):\n",
    "    instrument_type = row['instrumentType'].strip() if isinstance(row['instrumentType'], str) else ''\n",
    "    option_type = row['optionType'].strip() if isinstance(row['optionType'], str) else ''\n",
    "    if option_type:\n",
    "        return 'Options'\n",
    "    elif instrument_type in ['FUTSTK', 'FUTIDX']:\n",
    "        return 'Futures'\n",
    "    else:\n",
    "        return 'Cash'"
   ]
  },
  {
   "cell_type": "code",
   "execution_count": 50,
   "metadata": {},
   "outputs": [],
   "source": [
    "df_kotak['Type'] = df_kotak.apply(classify_instrument, axis=1)"
   ]
  },
  {
   "cell_type": "code",
   "execution_count": 51,
   "metadata": {},
   "outputs": [],
   "source": [
    "cash_data = df_kotak[df_kotak['Type'] == 'Cash']\n",
    "futures_data = df_kotak[df_kotak['Type'] == 'Futures']\n",
    "options_data = df_kotak[df_kotak['Type'] == 'Options']"
   ]
  },
  {
   "cell_type": "code",
   "execution_count": 52,
   "metadata": {},
   "outputs": [],
   "source": [
    "os.makedirs('kotak', exist_ok=True)\n",
    "cash_data.to_csv('kotak/cash_data.csv', index=False)\n",
    "futures_data.to_csv('kotak/futures_data.csv', index=False)\n",
    "options_data.to_csv('kotak/options_data.csv', index=False)"
   ]
  },
  {
   "cell_type": "markdown",
   "metadata": {},
   "source": [
    "### Zerodha"
   ]
  },
  {
   "cell_type": "code",
   "execution_count": 60,
   "metadata": {},
   "outputs": [
    {
     "name": "stdout",
     "output_type": "stream",
     "text": [
      "Fetching data from https://api.kite.trade/instruments...\n",
      "done!\n"
     ]
    }
   ],
   "source": [
    "\n",
    "def fetch_zerodha_data():\n",
    "    url_zerodha = \"https://api.kite.trade/instruments\"\n",
    "    filename = \"zerodha.csv\"\n",
    "    path = f\"raw_zerodha/{filename}\"\n",
    "\n",
    "    print(f\"Fetching data from {url_zerodha}...\")\n",
    "\n",
    "    response = requests.get(url_zerodha)\n",
    "    response.raise_for_status()\n",
    "\n",
    "    os.makedirs('raw_zerodha', exist_ok=True)\n",
    "    with open(path, 'w', newline='') as file:\n",
    "        writer = csv.writer(file)\n",
    "        for line in response.text.splitlines():\n",
    "            writer.writerow(line.split(','))\n",
    "    print(f\"done!\")\n",
    "fetch_zerodha_data()\n"
   ]
  },
  {
   "cell_type": "code",
   "execution_count": 61,
   "metadata": {},
   "outputs": [
    {
     "data": {
      "text/html": [
       "<div>\n",
       "<style scoped>\n",
       "    .dataframe tbody tr th:only-of-type {\n",
       "        vertical-align: middle;\n",
       "    }\n",
       "\n",
       "    .dataframe tbody tr th {\n",
       "        vertical-align: top;\n",
       "    }\n",
       "\n",
       "    .dataframe thead th {\n",
       "        text-align: right;\n",
       "    }\n",
       "</style>\n",
       "<table border=\"1\" class=\"dataframe\">\n",
       "  <thead>\n",
       "    <tr style=\"text-align: right;\">\n",
       "      <th></th>\n",
       "      <th>instrument_token</th>\n",
       "      <th>exchange_token</th>\n",
       "      <th>tradingsymbol</th>\n",
       "      <th>name</th>\n",
       "      <th>last_price</th>\n",
       "      <th>expiry</th>\n",
       "      <th>strike</th>\n",
       "      <th>tick_size</th>\n",
       "      <th>lot_size</th>\n",
       "      <th>instrument_type</th>\n",
       "      <th>segment</th>\n",
       "      <th>exchange</th>\n",
       "    </tr>\n",
       "  </thead>\n",
       "  <tbody>\n",
       "    <tr>\n",
       "      <th>0</th>\n",
       "      <td>265969926</td>\n",
       "      <td>1038945</td>\n",
       "      <td>EURINR24NOVFUT</td>\n",
       "      <td>\"EURINR\"</td>\n",
       "      <td>0</td>\n",
       "      <td>2024-11-27</td>\n",
       "      <td>0.0</td>\n",
       "      <td>0.0025</td>\n",
       "      <td>1</td>\n",
       "      <td>FUT</td>\n",
       "      <td>BCD-FUT</td>\n",
       "      <td>BCD</td>\n",
       "    </tr>\n",
       "    <tr>\n",
       "      <th>1</th>\n",
       "      <td>268449030</td>\n",
       "      <td>1048629</td>\n",
       "      <td>EURINR24DECFUT</td>\n",
       "      <td>\"EURINR\"</td>\n",
       "      <td>0</td>\n",
       "      <td>2024-12-27</td>\n",
       "      <td>0.0</td>\n",
       "      <td>0.0025</td>\n",
       "      <td>1</td>\n",
       "      <td>FUT</td>\n",
       "      <td>BCD-FUT</td>\n",
       "      <td>BCD</td>\n",
       "    </tr>\n",
       "    <tr>\n",
       "      <th>2</th>\n",
       "      <td>269248262</td>\n",
       "      <td>1051751</td>\n",
       "      <td>EURINR25JANFUT</td>\n",
       "      <td>\"EURINR\"</td>\n",
       "      <td>0</td>\n",
       "      <td>2025-01-29</td>\n",
       "      <td>0.0</td>\n",
       "      <td>0.0025</td>\n",
       "      <td>1</td>\n",
       "      <td>FUT</td>\n",
       "      <td>BCD-FUT</td>\n",
       "      <td>BCD</td>\n",
       "    </tr>\n",
       "    <tr>\n",
       "      <th>3</th>\n",
       "      <td>270018310</td>\n",
       "      <td>1054759</td>\n",
       "      <td>EURINR25FEBFUT</td>\n",
       "      <td>\"EURINR\"</td>\n",
       "      <td>0</td>\n",
       "      <td>2025-02-26</td>\n",
       "      <td>0.0</td>\n",
       "      <td>0.0025</td>\n",
       "      <td>1</td>\n",
       "      <td>FUT</td>\n",
       "      <td>BCD-FUT</td>\n",
       "      <td>BCD</td>\n",
       "    </tr>\n",
       "    <tr>\n",
       "      <th>4</th>\n",
       "      <td>270682630</td>\n",
       "      <td>1057354</td>\n",
       "      <td>EURINR25MARFUT</td>\n",
       "      <td>\"EURINR\"</td>\n",
       "      <td>0</td>\n",
       "      <td>2025-03-27</td>\n",
       "      <td>0.0</td>\n",
       "      <td>0.0025</td>\n",
       "      <td>1</td>\n",
       "      <td>FUT</td>\n",
       "      <td>BCD-FUT</td>\n",
       "      <td>BCD</td>\n",
       "    </tr>\n",
       "  </tbody>\n",
       "</table>\n",
       "</div>"
      ],
      "text/plain": [
       "   instrument_token  exchange_token   tradingsymbol      name  last_price  \\\n",
       "0         265969926         1038945  EURINR24NOVFUT  \"EURINR\"           0   \n",
       "1         268449030         1048629  EURINR24DECFUT  \"EURINR\"           0   \n",
       "2         269248262         1051751  EURINR25JANFUT  \"EURINR\"           0   \n",
       "3         270018310         1054759  EURINR25FEBFUT  \"EURINR\"           0   \n",
       "4         270682630         1057354  EURINR25MARFUT  \"EURINR\"           0   \n",
       "\n",
       "       expiry  strike  tick_size  lot_size instrument_type  segment exchange  \n",
       "0  2024-11-27     0.0     0.0025         1             FUT  BCD-FUT      BCD  \n",
       "1  2024-12-27     0.0     0.0025         1             FUT  BCD-FUT      BCD  \n",
       "2  2025-01-29     0.0     0.0025         1             FUT  BCD-FUT      BCD  \n",
       "3  2025-02-26     0.0     0.0025         1             FUT  BCD-FUT      BCD  \n",
       "4  2025-03-27     0.0     0.0025         1             FUT  BCD-FUT      BCD  "
      ]
     },
     "execution_count": 61,
     "metadata": {},
     "output_type": "execute_result"
    }
   ],
   "source": [
    "zerodha_data = pd.read_csv('raw_zerodha/zerodha.csv')\n",
    "zerodha_data.head()"
   ]
  },
  {
   "cell_type": "code",
   "execution_count": 63,
   "metadata": {},
   "outputs": [
    {
     "data": {
      "text/plain": [
       "Index(['instrument_token', 'exchange_token', 'tradingsymbol', 'name',\n",
       "       'last_price', 'expiry', 'strike', 'tick_size', 'lot_size',\n",
       "       'instrument_type', 'segment', 'exchange'],\n",
       "      dtype='object')"
      ]
     },
     "execution_count": 63,
     "metadata": {},
     "output_type": "execute_result"
    }
   ],
   "source": [
    "zerodha_data.columns"
   ]
  },
  {
   "cell_type": "code",
   "execution_count": 66,
   "metadata": {},
   "outputs": [],
   "source": [
    "os.makedirs('zerodha', exist_ok=True)\n",
    "\n",
    "df_cash = zerodha_data[zerodha_data['instrument_type'] == 'EQ'] \n",
    "df_futures = zerodha_data[zerodha_data['instrument_type'] == 'FUT'] \n",
    "df_options = zerodha_data[zerodha_data['instrument_type'] == 'OPT'] \n",
    "\n"
   ]
  },
  {
   "cell_type": "code",
   "execution_count": 67,
   "metadata": {},
   "outputs": [],
   "source": [
    "df_cash.to_csv('zerodha/cash_data.csv', index=False)\n",
    "df_futures.to_csv('zerodha/futures_data.csv', index=False)\n",
    "df_options.to_csv('zerodha/options_data.csv', index=False)"
   ]
  },
  {
   "cell_type": "markdown",
   "metadata": {},
   "source": [
    "### Final Merging analysis"
   ]
  },
  {
   "cell_type": "code",
   "execution_count": 10,
   "metadata": {},
   "outputs": [
    {
     "name": "stdout",
     "output_type": "stream",
     "text": [
      "Loaded: ./kotak/cash_data.csv\n",
      "Loaded: ./kotak/futures_data.csv\n",
      "Loaded: ./kotak/options_data.csv\n",
      "Loaded: ./angel_one/cash_data.csv\n",
      "Loaded: ./angel_one/futures_data.csv\n",
      "Loaded: ./angel_one/options_data.csv\n"
     ]
    },
    {
     "name": "stderr",
     "output_type": "stream",
     "text": [
      "C:\\Users\\ASUS\\AppData\\Local\\Temp\\ipykernel_2992\\3597312919.py:17: DtypeWarning: Columns (0,1,2,3,11,12,25,33,34,35,37,66,86,95,96,97,104,154) have mixed types. Specify dtype option on import or set low_memory=False.\n",
      "  data_dict[broker][data_type] = pd.read_csv(file_path)\n"
     ]
    },
    {
     "name": "stdout",
     "output_type": "stream",
     "text": [
      "Loaded: ./icici/cash_data.csv\n",
      "Loaded: ./icici/futures_data.csv\n",
      "Loaded: ./icici/options_data.csv\n",
      "Loaded: ./fyers/cash_data.csv\n",
      "Loaded: ./fyers/futures_data.csv\n",
      "Loaded: ./fyers/options_data.csv\n",
      "Loaded: ./zerodha/cash_data.csv\n",
      "Loaded: ./zerodha/futures_data.csv\n",
      "Loaded: ./zerodha/options_data.csv\n",
      "\n",
      "--- Example Data Access ---\n",
      "\n",
      "Broker: kotak, Data Type: cash\n",
      "   instrumentToken instrumentName                  name  lastPrice  expiry  \\\n",
      "0             9516      20MICRONS        20 Microns Ltd      73.85       0   \n",
      "1            43865      3IINFOLTD       3i Infotech Ltd      51.25       0   \n",
      "2              891        3MINDIA          3M India Ltd   19697.30       0   \n",
      "3              607         3PLAND  3P Land Holdings Ltd      14.50       0   \n",
      "4            13140         5PAISA    5Paisa Capital Ltd     344.70       0   \n",
      "\n",
      "   strike  tickSize  lotSize instrumentType segment exchange          isin  \\\n",
      "0     0.0      0.05        1             EQ    CASH      NSE  INE144J01027   \n",
      "1     0.0      0.05        1             EQ    CASH      NSE  INE748C01038   \n",
      "2     0.0      0.05        1             EQ    CASH      NSE  INE470A01017   \n",
      "3     0.0      0.05        1             EQ    CASH      NSE  INE105C01023   \n",
      "4     0.0      0.05        1             EQ    CASH      NSE  INE618L01018   \n",
      "\n",
      "   multiplier  exchangeToken OptionType  optionType  Type  \n",
      "0           1          16921         -          NaN  Cash  \n",
      "1           1           6232         -          NaN  Cash  \n",
      "2           1            474         -          NaN  Cash  \n",
      "3           1           2595         -          NaN  Cash  \n",
      "4           1            445         -          NaN  Cash  \n",
      "\n",
      "Broker: kotak, Data Type: futures\n",
      "Empty DataFrame\n",
      "Columns: [instrumentToken, instrumentName, name, lastPrice, expiry, strike, tickSize, lotSize, instrumentType, segment, exchange, isin, multiplier, exchangeToken, OptionType, optionType, Type]\n",
      "Index: []\n",
      "\n",
      "Broker: kotak, Data Type: options\n",
      "   instrumentToken instrumentName  name  lastPrice   expiry  strike  tickSize  \\\n",
      "0            42996           GOLD   NaN   50953.00  05APR22     0.0      1.00   \n",
      "1            26865          GOLDM   NaN   51042.00  05APR22     0.0      1.00   \n",
      "2            43861       CRUDEOIL   NaN    8115.00  19APR22     0.0      1.00   \n",
      "3           163713     NATURALGAS   NaN     423.70  26APR22     0.0      0.10   \n",
      "4            18418      ALUMINIUM   NaN     286.65  29APR22     0.0      0.05   \n",
      "\n",
      "   lotSize instrumentType    segment exchange  isin  multiplier  \\\n",
      "0        1             CF  COMMODITY   MCX-CM   NaN         100   \n",
      "1      100             CF  COMMODITY   MCX-CM   NaN           1   \n",
      "2      100             CF  COMMODITY   MCX-CM   NaN           1   \n",
      "3     1250             CF  COMMODITY   MCX-CM   NaN           1   \n",
      "4        5             CF  COMMODITY   MCX-CM   NaN        1000   \n",
      "\n",
      "   exchangeToken  OptionType optionType     Type  \n",
      "0         229091         NaN         XX  Options  \n",
      "1         235323         NaN         XX  Options  \n",
      "2         234196         NaN         XX  Options  \n",
      "3         235761         NaN         XX  Options  \n",
      "4         234631         NaN         XX  Options  \n",
      "\n",
      "Broker: angel_one, Data Type: cash\n",
      "   token        symbol       name expiry  strike  lotsize instrumenttype  \\\n",
      "0   6293    GULPOLY-BL    GULPOLY    NaN    -1.0        1            NaN   \n",
      "1  24051    739UK30-SG    739UK30    NaN    -1.0      100            NaN   \n",
      "2   3475    THERMAX-EQ    THERMAX    NaN    -1.0        1            NaN   \n",
      "3   3523     69MZ33-SG     69MZ33    NaN    -1.0      100            NaN   \n",
      "4  17996  PGIMCSR2G-MF  PGIMCSR2G    NaN    -1.0        1            NaN   \n",
      "\n",
      "  exch_seg  tick_size  Type  \n",
      "0      NSE        1.0  Cash  \n",
      "1      NSE        1.0  Cash  \n",
      "2      NSE        5.0  Cash  \n",
      "3      NSE        1.0  Cash  \n",
      "4      NSE        1.0  Cash  \n",
      "\n",
      "Broker: angel_one, Data Type: futures\n",
      "   token                symbol        name     expiry  strike  lotsize  \\\n",
      "0  38779      INDIGO28NOV24FUT      INDIGO  28NOV2024    -1.0      300   \n",
      "1  38799  LAURUSLABS28NOV24FUT  LAURUSLABS  28NOV2024    -1.0     1700   \n",
      "2  35644   BRITANNIA26DEC24FUT   BRITANNIA  26DEC2024    -1.0      200   \n",
      "3  38840   MOTHERSON28NOV24FUT   MOTHERSON  28NOV2024    -1.0     7100   \n",
      "4  40240      RECLTD31OCT24FUT      RECLTD  31OCT2024    -1.0     2000   \n",
      "\n",
      "  instrumenttype exch_seg  tick_size     Type  \n",
      "0         FUTSTK      NFO        5.0  Futures  \n",
      "1         FUTSTK      NFO        5.0  Futures  \n",
      "2         FUTSTK      NFO        5.0  Futures  \n",
      "3         FUTSTK      NFO        1.0  Futures  \n",
      "4         FUTSTK      NFO        5.0  Futures  \n",
      "\n",
      "Broker: angel_one, Data Type: options\n",
      "    token                  symbol       name     expiry    strike  lotsize  \\\n",
      "0  128097       LTIM26DEC246700PE       LTIM  26DEC2024  670000.0      150   \n",
      "1  135732        SRF28NOV242580PE        SRF  28NOV2024  258000.0      375   \n",
      "2   98463  DEEPAKNTR28NOV242800CE  DEEPAKNTR  28NOV2024  280000.0      300   \n",
      "3   80265      AUBANK31OCT24590CE     AUBANK  31OCT2024   59000.0     1000   \n",
      "4   75870        GAIL31OCT24250PE       GAIL  31OCT2024   25000.0     4575   \n",
      "\n",
      "  instrumenttype exch_seg  tick_size     Type  \n",
      "0         OPTSTK      NFO        5.0  Options  \n",
      "1         OPTSTK      NFO        5.0  Options  \n",
      "2         OPTSTK      NFO        5.0  Options  \n",
      "3         OPTSTK      NFO        5.0  Options  \n",
      "4         OPTSTK      NFO        5.0  Options  \n",
      "\n",
      "Broker: icici, Data Type: cash\n",
      "    Token ShortName Series                 CompanyName  TickSize  LotSize  \\\n",
      "0  800078    03D001     DR  11.10% GOI LOAN 07/04/2003    115.10      1.0   \n",
      "1  800004    03E001     DR         GOI LOAN 5.75% 2003    110.20      1.0   \n",
      "2  800032    03E002     DR           GOI LOAN 11% 2003    112.25      1.0   \n",
      "3  800049    04C001     DR  12.50% GOI LOAN 23/03/2004    114.40      1.0   \n",
      "4  800081    04E001     DR  11.50% GOI LOAN 09/05/2004    118.60      1.0   \n",
      "\n",
      "   ScripCode  MarketLot  BCastFlag  AVMBuyMargin  ...  OddLotMarketStatus.1  \\\n",
      "0   800078.0        0.0        0.0           0.0  ...                   NaN   \n",
      "1   800004.0        0.0        0.0           0.0  ...                   NaN   \n",
      "2   800032.0        0.0        0.0           0.0  ...                   NaN   \n",
      "3   800049.0        0.0        0.0           0.0  ...                   NaN   \n",
      "4   800081.0        0.0        0.0           0.0  ...                   NaN   \n",
      "\n",
      "  SpotMarketStatus.1 AuctionMarketStatus.1  NormalMarketEligibility.1  \\\n",
      "0                NaN                   NaN                        NaN   \n",
      "1                NaN                   NaN                        NaN   \n",
      "2                NaN                   NaN                        NaN   \n",
      "3                NaN                   NaN                        NaN   \n",
      "4                NaN                   NaN                        NaN   \n",
      "\n",
      "   OddLotlMarketEligibility  SpotMarketEligibility.1  \\\n",
      "0                       NaN                      NaN   \n",
      "1                       NaN                      NaN   \n",
      "2                       NaN                      NaN   \n",
      "3                       NaN                      NaN   \n",
      "4                       NaN                      NaN   \n",
      "\n",
      "   AuctionlMarketEligibility  MarginPercentage.1  ExchangeCode.1  Type  \n",
      "0                        NaN                 NaN             NaN  Cash  \n",
      "1                        NaN                 NaN             NaN  Cash  \n",
      "2                        NaN                 NaN             NaN  Cash  \n",
      "3                        NaN                 NaN             NaN  Cash  \n",
      "4                        NaN                 NaN             NaN  Cash  \n",
      "\n",
      "[5 rows x 156 columns]\n",
      "\n",
      "Broker: icici, Data Type: futures\n",
      "   Token ShortName  Series                    CompanyName  TickSize  LotSize  \\\n",
      "0  40286    TATPOW  FUTURE              TATA POWER CO LTD       5.0   1350.0   \n",
      "1  40287    TATSTE  FUTURE             TATA STEEL LIMITED       1.0   5500.0   \n",
      "2  40288       TCS  FUTURE  TATA CONSULTANCY SERVICES LTD       5.0    175.0   \n",
      "3  40289    TECMAH  FUTURE          TECH MAHINDRA LIMITED       5.0    600.0   \n",
      "4  40290    TITIND  FUTURE          TITAN COMPANY LIMITED       5.0    175.0   \n",
      "\n",
      "   ScripCode  MarketLot  BCastFlag  AVMBuyMargin  ...  OddLotMarketStatus.1  \\\n",
      "0        NaN        NaN        NaN           NaN  ...                   NaN   \n",
      "1        NaN        NaN        NaN           NaN  ...                   NaN   \n",
      "2        NaN        NaN        NaN           NaN  ...                   NaN   \n",
      "3        NaN        NaN        NaN           NaN  ...                   NaN   \n",
      "4        NaN        NaN        NaN           NaN  ...                   NaN   \n",
      "\n",
      "   SpotMarketStatus.1  AuctionMarketStatus.1  NormalMarketEligibility.1  \\\n",
      "0                 NaN                    NaN                        NaN   \n",
      "1                 NaN                    NaN                        NaN   \n",
      "2                 NaN                    NaN                        NaN   \n",
      "3                 NaN                    NaN                        NaN   \n",
      "4                 NaN                    NaN                        NaN   \n",
      "\n",
      "   OddLotlMarketEligibility  SpotMarketEligibility.1  \\\n",
      "0                       NaN                      NaN   \n",
      "1                       NaN                      NaN   \n",
      "2                       NaN                      NaN   \n",
      "3                       NaN                      NaN   \n",
      "4                       NaN                      NaN   \n",
      "\n",
      "   AuctionlMarketEligibility  MarginPercentage.1  ExchangeCode.1     Type  \n",
      "0                        NaN                 NaN             NaN  Futures  \n",
      "1                        NaN                 NaN             NaN  Futures  \n",
      "2                        NaN                 NaN             NaN  Futures  \n",
      "3                        NaN                 NaN             NaN  Futures  \n",
      "4                        NaN                 NaN             NaN  Futures  \n",
      "\n",
      "[5 rows x 156 columns]\n",
      "\n",
      "Broker: icici, Data Type: options\n",
      "   Token ShortName  Series          CompanyName  TickSize  LotSize  ScripCode  \\\n",
      "0  35001    CNXBAN  OPTION           NIFTY BANK       5.0     15.0        NaN   \n",
      "1  35002    CNXBAN  OPTION           NIFTY BANK       5.0     15.0        NaN   \n",
      "2  35003    CNXBAN  OPTION           NIFTY BANK       5.0     15.0        NaN   \n",
      "3  35008    CNXBAN  OPTION           NIFTY BANK       5.0     15.0        NaN   \n",
      "4  35009    NIFSEL  OPTION  NIFTY MIDCAP SELECT       5.0     50.0        NaN   \n",
      "\n",
      "   MarketLot  BCastFlag  AVMBuyMargin  ...  OddLotMarketStatus.1  \\\n",
      "0        NaN        NaN           NaN  ...                   NaN   \n",
      "1        NaN        NaN           NaN  ...                   NaN   \n",
      "2        NaN        NaN           NaN  ...                   NaN   \n",
      "3        NaN        NaN           NaN  ...                   NaN   \n",
      "4        NaN        NaN           NaN  ...                   NaN   \n",
      "\n",
      "   SpotMarketStatus.1  AuctionMarketStatus.1  NormalMarketEligibility.1  \\\n",
      "0                 NaN                    NaN                        NaN   \n",
      "1                 NaN                    NaN                        NaN   \n",
      "2                 NaN                    NaN                        NaN   \n",
      "3                 NaN                    NaN                        NaN   \n",
      "4                 NaN                    NaN                        NaN   \n",
      "\n",
      "   OddLotlMarketEligibility  SpotMarketEligibility.1  \\\n",
      "0                       NaN                      NaN   \n",
      "1                       NaN                      NaN   \n",
      "2                       NaN                      NaN   \n",
      "3                       NaN                      NaN   \n",
      "4                       NaN                      NaN   \n",
      "\n",
      "   AuctionlMarketEligibility  MarginPercentage.1  ExchangeCode.1     Type  \n",
      "0                        NaN                 NaN             NaN  Options  \n",
      "1                        NaN                 NaN             NaN  Options  \n",
      "2                        NaN                 NaN             NaN  Options  \n",
      "3                        NaN                 NaN             NaN  Options  \n",
      "4                        NaN                 NaN             NaN  Options  \n",
      "\n",
      "[5 rows x 156 columns]\n",
      "\n",
      "Broker: fyers, Data Type: cash\n",
      "Empty DataFrame\n",
      "Columns: [101224102910107, JPYINR 24 Oct 29 65.5 CE, 19, 1, 0.0025, Unnamed: 5, 0900-1700|1815-1915:, 2024-10-28, 1730185200, NSE:JPYINR24OCT65.5CE, 10, 12, 10107, JPYINR, 27, 65.5, CE, 101200000027, None, 0, 0.0, 101124102935012, FINNIFTY 24 Oct 29 FUT, 11, 25, 0.05, 0915-1530|1815-1915:, 1730196000, NSE:FINNIFTY24OCTFUT, 11.1, 35012, FINNIFTY, 26037, -1.0, XX, 101000000026037, 10100000001, GOLDSTAR POWER LIMITED, 11250, INE405Y01021, Unnamed: 8, NSE:GOLDSTAR-SM, 10.1, GOLDSTAR, 1.1, 10100000001.1, 0.1, 12100000001, SENSEX-INDEX, 0.01, BSE:SENSEX-INDEX, SENSEX, 12100000001.1, 12112410311135815, SENSEX 24 Oct 31 83700 PE, 14, 1730368800, BSE:SENSEX24O3183700PE, 1135815, 83700.0, PE, 1120241031433056, MENTHAOIL 24 Oct 31 FUT, 30, 0900-1800|1815-1915:, 2024-10-29, 1730397600, MCX:MENTHAOIL24OCTFUT, 20, 433056, MENTHAOIL, 320, 1120000000320, 1730397600.1, Type]\n",
      "Index: []\n",
      "\n",
      "[0 rows x 75 columns]\n",
      "\n",
      "Broker: fyers, Data Type: futures\n",
      "   101224102910107 JPYINR 24 Oct 29 65.5 CE    19    1  0.0025  Unnamed: 5  \\\n",
      "0     1.012241e+13     EURINR 24 Oct 29 FUT  16.0  1.0  0.0025         NaN   \n",
      "1     1.012241e+13     EURUSD 24 Oct 29 FUT  16.0  1.0  0.0001         NaN   \n",
      "2     1.012241e+13     GBPINR 24 Oct 29 FUT  16.0  1.0  0.0025         NaN   \n",
      "3     1.012241e+13     GBPUSD 24 Oct 29 FUT  16.0  1.0  0.0001         NaN   \n",
      "4     1.012241e+13     JPYINR 24 Oct 29 FUT  16.0  1.0  0.0025         NaN   \n",
      "\n",
      "   0900-1700|1815-1915:  2024-10-28    1730185200 NSE:JPYINR24OCT65.5CE  ...  \\\n",
      "0  0900-1700|1815-1915:  2024-10-28  1.730185e+09    NSE:EURINR24OCTFUT  ...   \n",
      "1  0900-1700|1815-1915:  2024-10-28  1.730185e+09    NSE:EURUSD24OCTFUT  ...   \n",
      "2  0900-1700|1815-1915:  2024-10-28  1.730185e+09    NSE:GBPINR24OCTFUT  ...   \n",
      "3  0900-1700|1815-1915:  2024-10-28  1.730185e+09    NSE:GBPUSD24OCTFUT  ...   \n",
      "4  0900-1700|1815-1915:  2024-10-28  1.730185e+09    NSE:JPYINR24OCTFUT  ...   \n",
      "\n",
      "   2024-10-29  1730397600  MCX:MENTHAOIL24OCTFUT  20  433056  MENTHAOIL 320  \\\n",
      "0         NaN         NaN                    NaN NaN     NaN        NaN NaN   \n",
      "1         NaN         NaN                    NaN NaN     NaN        NaN NaN   \n",
      "2         NaN         NaN                    NaN NaN     NaN        NaN NaN   \n",
      "3         NaN         NaN                    NaN NaN     NaN        NaN NaN   \n",
      "4         NaN         NaN                    NaN NaN     NaN        NaN NaN   \n",
      "\n",
      "   1120000000320 1730397600.1     Type  \n",
      "0            NaN          NaN  Futures  \n",
      "1            NaN          NaN  Futures  \n",
      "2            NaN          NaN  Futures  \n",
      "3            NaN          NaN  Futures  \n",
      "4            NaN          NaN  Futures  \n",
      "\n",
      "[5 rows x 75 columns]\n",
      "\n",
      "Broker: fyers, Data Type: options\n",
      "   101224102910107   JPYINR 24 Oct 29 65.5 CE    19    1  0.0025  Unnamed: 5  \\\n",
      "0     1.012241e+14   JPYINR 24 Oct 29 65.5 PE  19.0  1.0  0.0025         NaN   \n",
      "1     1.012241e+13  EURINR 24 Oct 29 84.75 CE  19.0  1.0  0.0025         NaN   \n",
      "2     1.012241e+13  EURUSD 24 Oct 29 1.225 CE  19.0  1.0  0.0001         NaN   \n",
      "3     1.012241e+13  EURUSD 24 Oct 29 1.225 PE  19.0  1.0  0.0001         NaN   \n",
      "4     1.012241e+14    USDJPY 24 Oct 29 129 CE  19.0  1.0  0.0100         NaN   \n",
      "\n",
      "   0900-1700|1815-1915:  2024-10-28    1730185200   NSE:JPYINR24OCT65.5CE  \\\n",
      "0  0900-1700|1815-1915:  2024-10-28  1.730185e+09   NSE:JPYINR24OCT65.5PE   \n",
      "1  0900-1700|1815-1915:  2024-10-28  1.730185e+09  NSE:EURINR24OCT84.75CE   \n",
      "2  0900-1700|1815-1915:  2024-10-28  1.730185e+09  NSE:EURUSD24OCT1.225CE   \n",
      "3  0900-1700|1815-1915:  2024-10-28  1.730185e+09  NSE:EURUSD24OCT1.225PE   \n",
      "4  0900-1700|1815-1915:  2024-10-28  1.730185e+09    NSE:USDJPY24OCT129CE   \n",
      "\n",
      "   ...  2024-10-29  1730397600  MCX:MENTHAOIL24OCTFUT  20  433056  MENTHAOIL  \\\n",
      "0  ...         NaN         NaN                    NaN NaN     NaN        NaN   \n",
      "1  ...         NaN         NaN                    NaN NaN     NaN        NaN   \n",
      "2  ...         NaN         NaN                    NaN NaN     NaN        NaN   \n",
      "3  ...         NaN         NaN                    NaN NaN     NaN        NaN   \n",
      "4  ...         NaN         NaN                    NaN NaN     NaN        NaN   \n",
      "\n",
      "  320  1120000000320 1730397600.1     Type  \n",
      "0 NaN            NaN          NaN  Options  \n",
      "1 NaN            NaN          NaN  Options  \n",
      "2 NaN            NaN          NaN  Options  \n",
      "3 NaN            NaN          NaN  Options  \n",
      "4 NaN            NaN          NaN  Options  \n",
      "\n",
      "[5 rows x 75 columns]\n",
      "\n",
      "Broker: zerodha, Data Type: cash\n",
      "   instrument_token  exchange_token tradingsymbol  \\\n",
      "0          50948356          199017   IVZGOLDINAV   \n",
      "1          50948612          199018   HDFCETFINAV   \n",
      "2          50948868          199019   ICICIGDINAV   \n",
      "3          50949124          199020    MON100INAV   \n",
      "4          50949380          199021   BSLGOLDINAV   \n",
      "\n",
      "                              name  last_price  expiry  strike  tick_size  \\\n",
      "0      \"INAV INVESCINDGOLXCHANGER\"           0     NaN     0.0       0.01   \n",
      "1     \"INAVHDFCMUTUAL-HDFC GOLD E\"           0     NaN     0.0       0.01   \n",
      "2  \"INAVICICI PRUDENTIAL GOLD ETF\"           0     NaN     0.0       0.01   \n",
      "3   \"INAVMOTILALOSWALMOSTSHARNASD\"           0     NaN     0.0       0.01   \n",
      "4    \"INAVADITYABIRLASUNLIFMUTUAL\"           0     NaN     0.0       0.01   \n",
      "\n",
      "   lot_size instrument_type segment exchange  \n",
      "0         1              EQ     BSE      BSE  \n",
      "1         1              EQ     BSE      BSE  \n",
      "2         1              EQ     BSE      BSE  \n",
      "3         1              EQ     BSE      BSE  \n",
      "4         1              EQ     BSE      BSE  \n",
      "\n",
      "Broker: zerodha, Data Type: futures\n",
      "   instrument_token  exchange_token   tradingsymbol      name  last_price  \\\n",
      "0         265969926         1038945  EURINR24NOVFUT  \"EURINR\"           0   \n",
      "1         268449030         1048629  EURINR24DECFUT  \"EURINR\"           0   \n",
      "2         269248262         1051751  EURINR25JANFUT  \"EURINR\"           0   \n",
      "3         270018310         1054759  EURINR25FEBFUT  \"EURINR\"           0   \n",
      "4         270682630         1057354  EURINR25MARFUT  \"EURINR\"           0   \n",
      "\n",
      "       expiry  strike  tick_size  lot_size instrument_type  segment exchange  \n",
      "0  2024-11-27     0.0     0.0025         1             FUT  BCD-FUT      BCD  \n",
      "1  2024-12-27     0.0     0.0025         1             FUT  BCD-FUT      BCD  \n",
      "2  2025-01-29     0.0     0.0025         1             FUT  BCD-FUT      BCD  \n",
      "3  2025-02-26     0.0     0.0025         1             FUT  BCD-FUT      BCD  \n",
      "4  2025-03-27     0.0     0.0025         1             FUT  BCD-FUT      BCD  \n",
      "\n",
      "Broker: zerodha, Data Type: options\n",
      "Empty DataFrame\n",
      "Columns: [instrument_token, exchange_token, tradingsymbol, name, last_price, expiry, strike, tick_size, lot_size, instrument_type, segment, exchange]\n",
      "Index: []\n",
      "\n",
      "Data mapping completed successfully!\n"
     ]
    }
   ],
   "source": [
    "import pandas as pd\n",
    "import os\n",
    "\n",
    "# Define brokers and data types\n",
    "brokers = ['kotak', 'angel_one', 'icici', 'fyers', 'zerodha']\n",
    "data_types = ['cash', 'futures', 'options']\n",
    "\n",
    "# Initialize a nested dictionary to store the mapped data\n",
    "data_dict = {broker: {} for broker in brokers}\n",
    "\n",
    "# Load all CSV files into the data_dict\n",
    "for broker in brokers:\n",
    "    for data_type in data_types:\n",
    "        file_path = f'./{broker}/{data_type}_data.csv'\n",
    "        if os.path.exists(file_path):\n",
    "            try:\n",
    "                data_dict[broker][data_type] = pd.read_csv(file_path)\n",
    "                print(f\"Loaded: {file_path}\")\n",
    "            except Exception as e:\n",
    "                print(f\"Error loading {file_path}: {e}\")\n",
    "        else:\n",
    "            print(f\"File {file_path} not found.\")\n",
    "\n",
    "# Example of how to access the mapped data:\n",
    "print(\"\\n--- Example Data Access ---\")\n",
    "for broker, data in data_dict.items():\n",
    "    for data_type, df in data.items():\n",
    "        print(f\"\\nBroker: {broker}, Data Type: {data_type}\")\n",
    "        print(df.head())  # Display the first few rows of the dataframe\n",
    "\n",
    "# Optional: Save the individual broker data into separate subfolders (optional)\n",
    "def save_individual_csv_files(data_dict):\n",
    "    for broker, data in data_dict.items():\n",
    "        for data_type, df in data.items():\n",
    "            output_path = f'./mapped_output/{broker}_{data_type}_data.csv'\n",
    "            os.makedirs(os.path.dirname(output_path), exist_ok=True)\n",
    "            df.to_csv(output_path, index=False)\n",
    "            print(f\"Saved {output_path}\")\n",
    "\n",
    "# Call the function to save (if needed)\n",
    "# save_individual_csv_files(data_dict)\n",
    "\n",
    "print(\"\\nData mapping completed successfully!\")\n"
   ]
  },
  {
   "cell_type": "code",
   "execution_count": 14,
   "metadata": {},
   "outputs": [
    {
     "name": "stdout",
     "output_type": "stream",
     "text": [
      "Loaded: ./kotak/cash_data.csv\n",
      "Loaded: ./kotak/futures_data.csv\n",
      "Loaded: ./kotak/options_data.csv\n",
      "Loaded: ./angel_one/cash_data.csv\n",
      "Loaded: ./angel_one/futures_data.csv\n",
      "Loaded: ./angel_one/options_data.csv\n"
     ]
    },
    {
     "name": "stderr",
     "output_type": "stream",
     "text": [
      "C:\\Users\\ASUS\\AppData\\Local\\Temp\\ipykernel_2992\\1257365914.py:19: DtypeWarning: Columns (0,1,2,3,11,12,25,33,34,35,37,66,86,95,96,97,104,154) have mixed types. Specify dtype option on import or set low_memory=False.\n",
      "  df = pd.read_csv(file_path)\n"
     ]
    },
    {
     "name": "stdout",
     "output_type": "stream",
     "text": [
      "Loaded: ./icici/cash_data.csv\n",
      "Loaded: ./icici/futures_data.csv\n",
      "Loaded: ./icici/options_data.csv\n",
      "Loaded: ./fyers/cash_data.csv\n",
      "Loaded: ./fyers/futures_data.csv\n",
      "Loaded: ./fyers/options_data.csv\n",
      "Loaded: ./zerodha/cash_data.csv\n",
      "Loaded: ./zerodha/futures_data.csv\n",
      "Loaded: ./zerodha/options_data.csv\n",
      "\n",
      "Master CSV saved at: master_data.csv\n",
      "\n",
      "Data mapping and aggregation completed successfully!\n"
     ]
    }
   ],
   "source": [
    "import pandas as pd\n",
    "import os\n",
    "\n",
    "# Define brokers and data types\n",
    "brokers = ['kotak', 'angel_one', 'icici', 'fyers', 'zerodha']\n",
    "data_types = ['cash', 'futures', 'options']\n",
    "\n",
    "# Initialize an empty list to collect all data for the master CSV\n",
    "master_data = []\n",
    "\n",
    "# Load all CSV files into the master_data list\n",
    "for broker in brokers:\n",
    "    for data_type in data_types:\n",
    "        file_path = f'./{broker}/{data_type}_data.csv'\n",
    "        \n",
    "        if os.path.exists(file_path):\n",
    "            try:\n",
    "                # Load the CSV file\n",
    "                df = pd.read_csv(file_path)\n",
    "                print(f\"Loaded: {file_path}\")\n",
    "\n",
    "                # Add broker and data type as new columns\n",
    "                df['Broker'] = broker\n",
    "                df['Data_Type'] = data_type\n",
    "\n",
    "                # Append the data to the master list\n",
    "                master_data.append(df)\n",
    "\n",
    "            except Exception as e:\n",
    "                print(f\"Error loading {file_path}: {e}\")\n",
    "        else:\n",
    "            print(f\"File {file_path} not found.\")\n",
    "\n",
    "# Combine all individual DataFrames into a single DataFrame\n",
    "if master_data:\n",
    "    master_df = pd.concat(master_data, ignore_index=True)\n",
    "    \n",
    "    # Save the master DataFrame as a CSV\n",
    "    master_csv_path = 'master_data.csv'\n",
    "    master_df.to_csv(master_csv_path, index=False)\n",
    "    print(f\"\\nMaster CSV saved at: {master_csv_path}\")\n",
    "else:\n",
    "    print(\"No data to save to the master CSV.\")\n",
    "\n",
    "# Optional: Save individual broker files into mapped_output folder\n",
    "def save_individual_csv_files(data_dict):\n",
    "    for broker, data in data_dict.items():\n",
    "        for data_type, df in data.items():\n",
    "            output_path = f'./mapped_output/{broker}_{data_type}_data.csv'\n",
    "            os.makedirs(os.path.dirname(output_path), exist_ok=True)\n",
    "            df.to_csv(output_path, index=False)\n",
    "            print(f\"Saved {output_path}\")\n",
    "\n",
    "print(\"\\nData mapping and aggregation completed successfully!\")\n"
   ]
  },
  {
   "cell_type": "code",
   "execution_count": null,
   "metadata": {},
   "outputs": [],
   "source": []
  }
 ],
 "metadata": {
  "kernelspec": {
   "display_name": "Python 3",
   "language": "python",
   "name": "python3"
  },
  "language_info": {
   "codemirror_mode": {
    "name": "ipython",
    "version": 3
   },
   "file_extension": ".py",
   "mimetype": "text/x-python",
   "name": "python",
   "nbconvert_exporter": "python",
   "pygments_lexer": "ipython3",
   "version": "3.9.16"
  }
 },
 "nbformat": 4,
 "nbformat_minor": 2
}
